{
  "nbformat": 4,
  "nbformat_minor": 0,
  "metadata": {
    "colab": {
      "provenance": []
    },
    "kernelspec": {
      "name": "python3",
      "display_name": "Python 3"
    },
    "language_info": {
      "name": "python"
    }
  },
  "cells": [
    {
      "cell_type": "markdown",
      "source": [
        " # Лабораторная работа №3: Классификация $kNN$\n",
        "\n",
        "\n",
        "\n",
        " Вечканова П.А., группа 6133-010402\n"
      ],
      "metadata": {
        "id": "08x913LIEnT5"
      }
    },
    {
      "cell_type": "markdown",
      "source": [
        "## Задание:\n",
        "\n",
        "1. Считать в `pandas.dfFrame` любой источник данных: CSV, JSON, Excel-файл, HTML-таблицу и т.п.\n",
        "\n",
        "2. Бинарная классификация:\n",
        "   - Привести описание датасета.\n",
        "   - Осуществить предобработку данных (избавиться от `null`, убрать некоторые признаки и т.п.) - \"подчистить данные\".\n",
        "   - Закодировать категориальные признаки при необходимости.\n",
        "   - Выбрать какое-нибудь значение гиперпараметра $k$ алгоритма $kNN$.\n",
        "   - Разбить выборку на обучающую и тестовую.\n",
        "   - Осуществить бинарную классификацию.\n",
        "   - Посчитать метрики: $accuracy$, $precision$, $recall$, $\\textit{f-measure}$, а также составить `classification_report`.\n",
        "   - Нормализовать данные (`StandardScaler`или `MinMaxScaler`).\n",
        "   - Осуществить бинарную классификацию.\n",
        "   - Посчитать метрики: $accuracy$, $precision$, $recall$, $\\textit{f-measure}$, а также составить `classification_report`.\n",
        "   - Сравнить метрики на данных без нормализации и с применением нормализации.\n",
        "   - Построить `сorrelation heatmap` и/или воспользоваться методом `corr()`. Выбрать наиболее важные признаки эвристически или на основании каких-нибудь вычислений.\n",
        "   - Осуществить бинарную классификацию с отфильтрованными признаками.\n",
        "   - Посчитать метрики: $accuracy$, $precision$, $recall$, $\\textit{f-measure}$, а также составить `classification_report`.\n",
        "   - Сравнить результаты \"до\" и \"после\" фильтрации, сделать выводы.\n",
        "   - Перебрать значения гиперпараметра $k$ в каком-нибудь диапазоне с использованием кросс-валидации на данных с отфильтрованными признаками. Построить график *train/test accuracy* в зависимости от значения $k$.\n",
        "\n",
        "3. Многоклассовая классификация:\n",
        "   - Привести описание датасета.\n",
        "   - Осуществить предобработку данных - \"подчистить данные\".\n",
        "   - Закодировать категориальные признаки при необходимости.\n",
        "   - Нормализовать данные.\n",
        "   - Выбрать какое-нибудь значение гиперпараметра $k$ алгоритма $kNN$.\n",
        "   - Разбить выборку на обучающую и тестовую.\n",
        "   - Осуществить многоклассовую классификацию.\n",
        "   - Посчитать метрики: $accuracy$, $precision$, $recall$, $\\textit{f-measure}$, а также составить `classification_report`.\n",
        "   - Построить `сorrelation heatmap` и/или воспользоваться методом `corr()`. Выбрать наиболее важные признаки эвристически или на основании каких-нибудь вычислений.\n",
        "   - Осуществить многоклассовую классификацию с отфильтрованными признаками.\n",
        "   - Посчитать метрики: $accuracy$, $precision$, $recall$, $\\textit{f-measure}$, а также составить `classification_report`.\n",
        "   - Сравнить результаты \"до\" и \"после\" фильтрации, сделать выводы.\n",
        "   - Перебрать значения гиперпараметра $k$ в каком-нибудь диапазоне с использованием кросс-валидации на данных с отфильтрованными признаками. Построить график *train/test accuracy* в зависимости от значения $k$.\n",
        "   - Для лучшего классификатора привести метрики, `classification_report`, построить [confusion matrix](https://scikit-learn.org/stable/auto_examples/model_selection/plot_confusion_matrix.html) (это вроде матрицы $TN$ / $TP$ / $FN$ / $FP$, только расширенной для многоклассовой классификации, чтобы понять, в какие стороны чаще ошибается классификатор)."
      ],
      "metadata": {
        "id": "cEuiL8vHSBcL"
      }
    },
    {
      "cell_type": "markdown",
      "source": [
        "### 1. Считать в `pandas.dfFrame` любой источник данных: CSV, JSON, Excel-файл, HTML-таблицу и т.п."
      ],
      "metadata": {
        "id": "a6IH7lN4U_nz"
      }
    },
    {
      "cell_type": "code",
      "source": [
        "import pandas as pd\n",
        "\n",
        "df = pd.read_csv(\"/content/Star3642_balanced.csv\")\n",
        "\n",
        "df.head()"
      ],
      "metadata": {
        "colab": {
          "base_uri": "https://localhost:8080/",
          "height": 206
        },
        "id": "hdwN6Db4SD8q",
        "outputId": "ad1b4304-6117-4613-a195-222bab5c9963"
      },
      "execution_count": 122,
      "outputs": [
        {
          "output_type": "execute_result",
          "data": {
            "text/plain": [
              "   Vmag    Plx  e_Plx    B-V SpType       Amag  TargetClass\n",
              "0  5.99  13.73   0.58  1.318  K5III  16.678352            0\n",
              "1  8.70   2.31   1.29 -0.045   B1II  15.518060            0\n",
              "2  5.77   5.50   1.03  0.855  G5III  14.471813            0\n",
              "3  6.72   5.26   0.74 -0.015    B7V  15.324928            1\n",
              "4  8.76  13.44   1.16  0.584    G0V  19.401997            1"
            ],
            "text/html": [
              "\n",
              "  <div id=\"df-85d77b59-6380-4d41-a495-a3f59d0acaea\" class=\"colab-df-container\">\n",
              "    <div>\n",
              "<style scoped>\n",
              "    .dataframe tbody tr th:only-of-type {\n",
              "        vertical-align: middle;\n",
              "    }\n",
              "\n",
              "    .dataframe tbody tr th {\n",
              "        vertical-align: top;\n",
              "    }\n",
              "\n",
              "    .dataframe thead th {\n",
              "        text-align: right;\n",
              "    }\n",
              "</style>\n",
              "<table border=\"1\" class=\"dataframe\">\n",
              "  <thead>\n",
              "    <tr style=\"text-align: right;\">\n",
              "      <th></th>\n",
              "      <th>Vmag</th>\n",
              "      <th>Plx</th>\n",
              "      <th>e_Plx</th>\n",
              "      <th>B-V</th>\n",
              "      <th>SpType</th>\n",
              "      <th>Amag</th>\n",
              "      <th>TargetClass</th>\n",
              "    </tr>\n",
              "  </thead>\n",
              "  <tbody>\n",
              "    <tr>\n",
              "      <th>0</th>\n",
              "      <td>5.99</td>\n",
              "      <td>13.73</td>\n",
              "      <td>0.58</td>\n",
              "      <td>1.318</td>\n",
              "      <td>K5III</td>\n",
              "      <td>16.678352</td>\n",
              "      <td>0</td>\n",
              "    </tr>\n",
              "    <tr>\n",
              "      <th>1</th>\n",
              "      <td>8.70</td>\n",
              "      <td>2.31</td>\n",
              "      <td>1.29</td>\n",
              "      <td>-0.045</td>\n",
              "      <td>B1II</td>\n",
              "      <td>15.518060</td>\n",
              "      <td>0</td>\n",
              "    </tr>\n",
              "    <tr>\n",
              "      <th>2</th>\n",
              "      <td>5.77</td>\n",
              "      <td>5.50</td>\n",
              "      <td>1.03</td>\n",
              "      <td>0.855</td>\n",
              "      <td>G5III</td>\n",
              "      <td>14.471813</td>\n",
              "      <td>0</td>\n",
              "    </tr>\n",
              "    <tr>\n",
              "      <th>3</th>\n",
              "      <td>6.72</td>\n",
              "      <td>5.26</td>\n",
              "      <td>0.74</td>\n",
              "      <td>-0.015</td>\n",
              "      <td>B7V</td>\n",
              "      <td>15.324928</td>\n",
              "      <td>1</td>\n",
              "    </tr>\n",
              "    <tr>\n",
              "      <th>4</th>\n",
              "      <td>8.76</td>\n",
              "      <td>13.44</td>\n",
              "      <td>1.16</td>\n",
              "      <td>0.584</td>\n",
              "      <td>G0V</td>\n",
              "      <td>19.401997</td>\n",
              "      <td>1</td>\n",
              "    </tr>\n",
              "  </tbody>\n",
              "</table>\n",
              "</div>\n",
              "    <div class=\"colab-df-buttons\">\n",
              "\n",
              "  <div class=\"colab-df-container\">\n",
              "    <button class=\"colab-df-convert\" onclick=\"convertToInteractive('df-85d77b59-6380-4d41-a495-a3f59d0acaea')\"\n",
              "            title=\"Convert this dataframe to an interactive table.\"\n",
              "            style=\"display:none;\">\n",
              "\n",
              "  <svg xmlns=\"http://www.w3.org/2000/svg\" height=\"24px\" viewBox=\"0 -960 960 960\">\n",
              "    <path d=\"M120-120v-720h720v720H120Zm60-500h600v-160H180v160Zm220 220h160v-160H400v160Zm0 220h160v-160H400v160ZM180-400h160v-160H180v160Zm440 0h160v-160H620v160ZM180-180h160v-160H180v160Zm440 0h160v-160H620v160Z\"/>\n",
              "  </svg>\n",
              "    </button>\n",
              "\n",
              "  <style>\n",
              "    .colab-df-container {\n",
              "      display:flex;\n",
              "      gap: 12px;\n",
              "    }\n",
              "\n",
              "    .colab-df-convert {\n",
              "      background-color: #E8F0FE;\n",
              "      border: none;\n",
              "      border-radius: 50%;\n",
              "      cursor: pointer;\n",
              "      display: none;\n",
              "      fill: #1967D2;\n",
              "      height: 32px;\n",
              "      padding: 0 0 0 0;\n",
              "      width: 32px;\n",
              "    }\n",
              "\n",
              "    .colab-df-convert:hover {\n",
              "      background-color: #E2EBFA;\n",
              "      box-shadow: 0px 1px 2px rgba(60, 64, 67, 0.3), 0px 1px 3px 1px rgba(60, 64, 67, 0.15);\n",
              "      fill: #174EA6;\n",
              "    }\n",
              "\n",
              "    .colab-df-buttons div {\n",
              "      margin-bottom: 4px;\n",
              "    }\n",
              "\n",
              "    [theme=dark] .colab-df-convert {\n",
              "      background-color: #3B4455;\n",
              "      fill: #D2E3FC;\n",
              "    }\n",
              "\n",
              "    [theme=dark] .colab-df-convert:hover {\n",
              "      background-color: #434B5C;\n",
              "      box-shadow: 0px 1px 3px 1px rgba(0, 0, 0, 0.15);\n",
              "      filter: drop-shadow(0px 1px 2px rgba(0, 0, 0, 0.3));\n",
              "      fill: #FFFFFF;\n",
              "    }\n",
              "  </style>\n",
              "\n",
              "    <script>\n",
              "      const buttonEl =\n",
              "        document.querySelector('#df-85d77b59-6380-4d41-a495-a3f59d0acaea button.colab-df-convert');\n",
              "      buttonEl.style.display =\n",
              "        google.colab.kernel.accessAllowed ? 'block' : 'none';\n",
              "\n",
              "      async function convertToInteractive(key) {\n",
              "        const element = document.querySelector('#df-85d77b59-6380-4d41-a495-a3f59d0acaea');\n",
              "        const dataTable =\n",
              "          await google.colab.kernel.invokeFunction('convertToInteractive',\n",
              "                                                    [key], {});\n",
              "        if (!dataTable) return;\n",
              "\n",
              "        const docLinkHtml = 'Like what you see? Visit the ' +\n",
              "          '<a target=\"_blank\" href=https://colab.research.google.com/notebooks/data_table.ipynb>data table notebook</a>'\n",
              "          + ' to learn more about interactive tables.';\n",
              "        element.innerHTML = '';\n",
              "        dataTable['output_type'] = 'display_data';\n",
              "        await google.colab.output.renderOutput(dataTable, element);\n",
              "        const docLink = document.createElement('div');\n",
              "        docLink.innerHTML = docLinkHtml;\n",
              "        element.appendChild(docLink);\n",
              "      }\n",
              "    </script>\n",
              "  </div>\n",
              "\n",
              "\n",
              "<div id=\"df-d17084f3-6af2-4ac5-8e58-961eafd79e62\">\n",
              "  <button class=\"colab-df-quickchart\" onclick=\"quickchart('df-d17084f3-6af2-4ac5-8e58-961eafd79e62')\"\n",
              "            title=\"Suggest charts\"\n",
              "            style=\"display:none;\">\n",
              "\n",
              "<svg xmlns=\"http://www.w3.org/2000/svg\" height=\"24px\"viewBox=\"0 0 24 24\"\n",
              "     width=\"24px\">\n",
              "    <g>\n",
              "        <path d=\"M19 3H5c-1.1 0-2 .9-2 2v14c0 1.1.9 2 2 2h14c1.1 0 2-.9 2-2V5c0-1.1-.9-2-2-2zM9 17H7v-7h2v7zm4 0h-2V7h2v10zm4 0h-2v-4h2v4z\"/>\n",
              "    </g>\n",
              "</svg>\n",
              "  </button>\n",
              "\n",
              "<style>\n",
              "  .colab-df-quickchart {\n",
              "      --bg-color: #E8F0FE;\n",
              "      --fill-color: #1967D2;\n",
              "      --hover-bg-color: #E2EBFA;\n",
              "      --hover-fill-color: #174EA6;\n",
              "      --disabled-fill-color: #AAA;\n",
              "      --disabled-bg-color: #DDD;\n",
              "  }\n",
              "\n",
              "  [theme=dark] .colab-df-quickchart {\n",
              "      --bg-color: #3B4455;\n",
              "      --fill-color: #D2E3FC;\n",
              "      --hover-bg-color: #434B5C;\n",
              "      --hover-fill-color: #FFFFFF;\n",
              "      --disabled-bg-color: #3B4455;\n",
              "      --disabled-fill-color: #666;\n",
              "  }\n",
              "\n",
              "  .colab-df-quickchart {\n",
              "    background-color: var(--bg-color);\n",
              "    border: none;\n",
              "    border-radius: 50%;\n",
              "    cursor: pointer;\n",
              "    display: none;\n",
              "    fill: var(--fill-color);\n",
              "    height: 32px;\n",
              "    padding: 0;\n",
              "    width: 32px;\n",
              "  }\n",
              "\n",
              "  .colab-df-quickchart:hover {\n",
              "    background-color: var(--hover-bg-color);\n",
              "    box-shadow: 0 1px 2px rgba(60, 64, 67, 0.3), 0 1px 3px 1px rgba(60, 64, 67, 0.15);\n",
              "    fill: var(--button-hover-fill-color);\n",
              "  }\n",
              "\n",
              "  .colab-df-quickchart-complete:disabled,\n",
              "  .colab-df-quickchart-complete:disabled:hover {\n",
              "    background-color: var(--disabled-bg-color);\n",
              "    fill: var(--disabled-fill-color);\n",
              "    box-shadow: none;\n",
              "  }\n",
              "\n",
              "  .colab-df-spinner {\n",
              "    border: 2px solid var(--fill-color);\n",
              "    border-color: transparent;\n",
              "    border-bottom-color: var(--fill-color);\n",
              "    animation:\n",
              "      spin 1s steps(1) infinite;\n",
              "  }\n",
              "\n",
              "  @keyframes spin {\n",
              "    0% {\n",
              "      border-color: transparent;\n",
              "      border-bottom-color: var(--fill-color);\n",
              "      border-left-color: var(--fill-color);\n",
              "    }\n",
              "    20% {\n",
              "      border-color: transparent;\n",
              "      border-left-color: var(--fill-color);\n",
              "      border-top-color: var(--fill-color);\n",
              "    }\n",
              "    30% {\n",
              "      border-color: transparent;\n",
              "      border-left-color: var(--fill-color);\n",
              "      border-top-color: var(--fill-color);\n",
              "      border-right-color: var(--fill-color);\n",
              "    }\n",
              "    40% {\n",
              "      border-color: transparent;\n",
              "      border-right-color: var(--fill-color);\n",
              "      border-top-color: var(--fill-color);\n",
              "    }\n",
              "    60% {\n",
              "      border-color: transparent;\n",
              "      border-right-color: var(--fill-color);\n",
              "    }\n",
              "    80% {\n",
              "      border-color: transparent;\n",
              "      border-right-color: var(--fill-color);\n",
              "      border-bottom-color: var(--fill-color);\n",
              "    }\n",
              "    90% {\n",
              "      border-color: transparent;\n",
              "      border-bottom-color: var(--fill-color);\n",
              "    }\n",
              "  }\n",
              "</style>\n",
              "\n",
              "  <script>\n",
              "    async function quickchart(key) {\n",
              "      const quickchartButtonEl =\n",
              "        document.querySelector('#' + key + ' button');\n",
              "      quickchartButtonEl.disabled = true;  // To prevent multiple clicks.\n",
              "      quickchartButtonEl.classList.add('colab-df-spinner');\n",
              "      try {\n",
              "        const charts = await google.colab.kernel.invokeFunction(\n",
              "            'suggestCharts', [key], {});\n",
              "      } catch (error) {\n",
              "        console.error('Error during call to suggestCharts:', error);\n",
              "      }\n",
              "      quickchartButtonEl.classList.remove('colab-df-spinner');\n",
              "      quickchartButtonEl.classList.add('colab-df-quickchart-complete');\n",
              "    }\n",
              "    (() => {\n",
              "      let quickchartButtonEl =\n",
              "        document.querySelector('#df-d17084f3-6af2-4ac5-8e58-961eafd79e62 button');\n",
              "      quickchartButtonEl.style.display =\n",
              "        google.colab.kernel.accessAllowed ? 'block' : 'none';\n",
              "    })();\n",
              "  </script>\n",
              "</div>\n",
              "    </div>\n",
              "  </div>\n"
            ],
            "application/vnd.google.colaboratory.intrinsic+json": {
              "type": "dataframe",
              "variable_name": "df",
              "summary": "{\n  \"name\": \"df\",\n  \"rows\": 3642,\n  \"fields\": [\n    {\n      \"column\": \"Vmag\",\n      \"properties\": {\n        \"dtype\": \"number\",\n        \"std\": 1.3388753573546939,\n        \"min\": 0.45,\n        \"max\": 12.49,\n        \"num_unique_values\": 614,\n        \"samples\": [\n          9.12,\n          7.64,\n          6.71\n        ],\n        \"semantic_type\": \"\",\n        \"description\": \"\"\n      }\n    },\n    {\n      \"column\": \"Plx\",\n      \"properties\": {\n        \"dtype\": \"number\",\n        \"std\": 11.924052087424185,\n        \"min\": -6.82,\n        \"max\": 280.27,\n        \"num_unique_values\": 1584,\n        \"samples\": [\n          8.65,\n          1.37,\n          13.49\n        ],\n        \"semantic_type\": \"\",\n        \"description\": \"\"\n      }\n    },\n    {\n      \"column\": \"e_Plx\",\n      \"properties\": {\n        \"dtype\": \"number\",\n        \"std\": 0.9199986711937217,\n        \"min\": 0.47,\n        \"max\": 30.29,\n        \"num_unique_values\": 283,\n        \"samples\": [\n          1.33,\n          3.07,\n          1.9\n        ],\n        \"semantic_type\": \"\",\n        \"description\": \"\"\n      }\n    },\n    {\n      \"column\": \"B-V\",\n      \"properties\": {\n        \"dtype\": \"number\",\n        \"std\": 0.4366988207662129,\n        \"min\": -0.196,\n        \"max\": 2.53,\n        \"num_unique_values\": 1439,\n        \"samples\": [\n          0.267,\n          1.642,\n          1.576\n        ],\n        \"semantic_type\": \"\",\n        \"description\": \"\"\n      }\n    },\n    {\n      \"column\": \"SpType\",\n      \"properties\": {\n        \"dtype\": \"category\",\n        \"num_unique_values\": 584,\n        \"samples\": [\n          \"B9.5IIIMNp.\",\n          \"G8/K0IV/V\",\n          \"B5III\"\n        ],\n        \"semantic_type\": \"\",\n        \"description\": \"\"\n      }\n    },\n    {\n      \"column\": \"Amag\",\n      \"properties\": {\n        \"dtype\": \"number\",\n        \"std\": 2.4281438189533224,\n        \"min\": 2.8200002,\n        \"max\": 29.249165,\n        \"num_unique_values\": 3626,\n        \"samples\": [\n          20.647758,\n          13.466013,\n          18.489496\n        ],\n        \"semantic_type\": \"\",\n        \"description\": \"\"\n      }\n    },\n    {\n      \"column\": \"TargetClass\",\n      \"properties\": {\n        \"dtype\": \"number\",\n        \"std\": 0,\n        \"min\": 0,\n        \"max\": 1,\n        \"num_unique_values\": 2,\n        \"samples\": [\n          1,\n          0\n        ],\n        \"semantic_type\": \"\",\n        \"description\": \"\"\n      }\n    }\n  ]\n}"
            }
          },
          "metadata": {},
          "execution_count": 122
        }
      ]
    },
    {
      "cell_type": "markdown",
      "source": [
        "### 2. Бинарная классификация:"
      ],
      "metadata": {
        "id": "lr1UYxulc9AK"
      }
    },
    {
      "cell_type": "markdown",
      "source": [
        "#### - Привести описание датасета."
      ],
      "metadata": {
        "id": "CZ4fWCqOdIHe"
      }
    },
    {
      "cell_type": "markdown",
      "source": [
        "Датасет содержит признаки:\n",
        "\n",
        "| Признак     | Описание                                                                 |\n",
        "|-------------|--------------------------------------------------------------------------|\n",
        "| Vmag        | Видимая звёздная величина (чем меньше значение, тем ярче звезда)          |\n",
        "| Plx         | Параллакс звезды (используется для расчёта расстояния до звезды в парсеках) |\n",
        "| e_Plx       | Стандартная ошибка параллакса (рекомендуется удалить строки с высокой погрешностью) |\n",
        "| B-V         | Цветовой индекс B-V (0 или отрицательный — горячие звёзды, 2.0 — холодные) |\n",
        "| SpType      | Спектральный класс звезды (например, K3III, B1II, G3III и т.д.)           |\n",
        "| Amag        | Абсолютная звёздная величина (яркость звезды на стандартном расстоянии 10 пк) |\n",
        "| TargetClass | Класс звезды: 0 — карлик, 1 — гигант                                      |"
      ],
      "metadata": {
        "id": "hvPDnNJGSWIC"
      }
    },
    {
      "cell_type": "markdown",
      "source": [
        "#### - Осуществить предобработку данных (избавиться от `null`, убрать некоторые признаки и т.п.) - \"подчистить данные\"."
      ],
      "metadata": {
        "id": "JgKLoegddO4m"
      }
    },
    {
      "cell_type": "code",
      "source": [
        "df = df.dropna()"
      ],
      "metadata": {
        "id": "BB1KEfF2bqRm"
      },
      "execution_count": 123,
      "outputs": []
    },
    {
      "cell_type": "markdown",
      "source": [
        "####    - Закодировать категориальные признаки при необходимости.\n"
      ],
      "metadata": {
        "id": "Emq03JYCd3Y_"
      }
    },
    {
      "cell_type": "code",
      "source": [
        "df = pd.get_dummies(df, columns=[\"SpType\"], drop_first=True)"
      ],
      "metadata": {
        "id": "Aeh2Y6ztd-nG"
      },
      "execution_count": 124,
      "outputs": []
    },
    {
      "cell_type": "markdown",
      "source": [
        "####   - Выбрать какое-нибудь значение гиперпараметра $k$ алгоритма $kNN$.\n",
        "\n"
      ],
      "metadata": {
        "id": "AwcTNxjkeaGz"
      }
    },
    {
      "cell_type": "markdown",
      "source": [
        "####    - Разбить выборку на обучающую и тестовую."
      ],
      "metadata": {
        "id": "bckCvPFwe14X"
      }
    },
    {
      "cell_type": "code",
      "source": [
        "from sklearn.model_selection import train_test_split\n",
        "\n",
        "X = df.drop(\"TargetClass\", axis=1)\n",
        "y = df[\"TargetClass\"]\n",
        "\n",
        "X_train, X_test, y_train, y_test = train_test_split(X, y, test_size=0.2, random_state=42)"
      ],
      "metadata": {
        "id": "7EoClYSae3db"
      },
      "execution_count": 125,
      "outputs": []
    },
    {
      "cell_type": "markdown",
      "source": [
        "####    - Осуществить бинарную классификацию.\n"
      ],
      "metadata": {
        "id": "jlDsDrmufa2p"
      }
    },
    {
      "cell_type": "code",
      "source": [
        "from sklearn.neighbors import KNeighborsClassifier\n",
        "\n",
        "knn = KNeighborsClassifier(n_neighbors=3)\n",
        "knn.fit(X_train, y_train)\n",
        "y_pred = knn.predict(X_test)"
      ],
      "metadata": {
        "id": "yheZobD8fERM"
      },
      "execution_count": 126,
      "outputs": []
    },
    {
      "cell_type": "markdown",
      "source": [
        "####   - Посчитать метрики: $accuracy$, $precision$, $recall$, $\\textit{f-measure}$, а также составить `classification_report`."
      ],
      "metadata": {
        "id": "k5chVit2gk6c"
      }
    },
    {
      "cell_type": "code",
      "source": [
        "from sklearn.metrics import classification_report, accuracy_score, precision_score, recall_score, f1_score\n",
        "\n",
        "print(\"Метрики без нормализации:\")\n",
        "print(f\"Accuracy: {accuracy_score(y_test, y_pred):.2f}\")\n",
        "print(f\"Precision: {precision_score(y_test, y_pred):.2f}\")\n",
        "print(f\"Recall: {recall_score(y_test, y_pred):.2f}\")\n",
        "print(f\"F1-score: {f1_score(y_test, y_pred):.2f}\")\n",
        "print(classification_report(y_test, y_pred))"
      ],
      "metadata": {
        "colab": {
          "base_uri": "https://localhost:8080/"
        },
        "id": "d4tCPvuDf75M",
        "outputId": "6038a47a-0689-4a82-a871-12aa61fb5c0c"
      },
      "execution_count": 127,
      "outputs": [
        {
          "output_type": "stream",
          "name": "stdout",
          "text": [
            "Метрики без нормализации:\n",
            "Accuracy: 0.90\n",
            "Precision: 0.91\n",
            "Recall: 0.90\n",
            "F1-score: 0.90\n",
            "              precision    recall  f1-score   support\n",
            "\n",
            "           0       0.89      0.90      0.90       353\n",
            "           1       0.91      0.90      0.90       376\n",
            "\n",
            "    accuracy                           0.90       729\n",
            "   macro avg       0.90      0.90      0.90       729\n",
            "weighted avg       0.90      0.90      0.90       729\n",
            "\n"
          ]
        }
      ]
    },
    {
      "cell_type": "markdown",
      "source": [
        "####    - Нормализовать данные (`StandardScaler`или `MinMaxScaler`).\n"
      ],
      "metadata": {
        "id": "hS2QbpGOh2MM"
      }
    },
    {
      "cell_type": "code",
      "source": [
        "from sklearn.preprocessing import StandardScaler\n",
        "\n",
        "scaler = StandardScaler()\n",
        "X_train_scaled = scaler.fit_transform(X_train)\n",
        "X_test_scaled = scaler.transform(X_test)"
      ],
      "metadata": {
        "id": "cm_s1ersgsds"
      },
      "execution_count": 128,
      "outputs": []
    },
    {
      "cell_type": "markdown",
      "source": [
        "####    - Осуществить бинарную классификацию."
      ],
      "metadata": {
        "id": "QDvt6c6WiN2-"
      }
    },
    {
      "cell_type": "code",
      "source": [
        "knn_scaled = KNeighborsClassifier(n_neighbors=3)\n",
        "knn_scaled.fit(X_train_scaled, y_train)\n",
        "y_pred_scaled = knn_scaled.predict(X_test_scaled)"
      ],
      "metadata": {
        "id": "codZomR9idAU"
      },
      "execution_count": 129,
      "outputs": []
    },
    {
      "cell_type": "markdown",
      "source": [
        "#### - Посчитать метрики: $accuracy$, $precision$, $recall$, $\\textit{f-measure}$, а также составить `classification_report`."
      ],
      "metadata": {
        "id": "GW0hRvt4iSv3"
      }
    },
    {
      "cell_type": "code",
      "source": [
        "print(\"\\nМетрики с нормализацией:\")\n",
        "print(f\"Accuracy: {accuracy_score(y_test, y_pred_scaled):.2f}\")\n",
        "print(f\"Precision: {precision_score(y_test, y_pred_scaled):.2f}\")\n",
        "print(f\"Recall: {recall_score(y_test, y_pred_scaled):.2f}\")\n",
        "print(f\"F1-score: {f1_score(y_test, y_pred_scaled):.2f}\")\n",
        "print(classification_report(y_test, y_pred_scaled))"
      ],
      "metadata": {
        "colab": {
          "base_uri": "https://localhost:8080/"
        },
        "id": "BSDZFkj5ihtg",
        "outputId": "e75eb98f-cb6a-4ae8-c847-1c387e44daaa"
      },
      "execution_count": 130,
      "outputs": [
        {
          "output_type": "stream",
          "name": "stdout",
          "text": [
            "\n",
            "Метрики с нормализацией:\n",
            "Accuracy: 0.91\n",
            "Precision: 1.00\n",
            "Recall: 0.84\n",
            "F1-score: 0.91\n",
            "              precision    recall  f1-score   support\n",
            "\n",
            "           0       0.85      1.00      0.92       353\n",
            "           1       1.00      0.84      0.91       376\n",
            "\n",
            "    accuracy                           0.91       729\n",
            "   macro avg       0.92      0.92      0.91       729\n",
            "weighted avg       0.93      0.91      0.91       729\n",
            "\n"
          ]
        }
      ]
    },
    {
      "cell_type": "markdown",
      "source": [
        "####    - Сравнить метрики на данных без нормализации и с применением нормализации."
      ],
      "metadata": {
        "id": "NMXL1MJ4ibAL"
      }
    },
    {
      "cell_type": "markdown",
      "source": [
        "Вывод: Нормализация не улучшила общую точность, но изменила баланс между Precision и Recall."
      ],
      "metadata": {
        "id": "Q-pvH9snjVLg"
      }
    },
    {
      "cell_type": "markdown",
      "source": [
        "  #### - Построить `сorrelation heatmap` и/или воспользоваться методом `corr()`. Выбрать наиболее важные признаки эвристически или на основании каких-нибудь вычислений."
      ],
      "metadata": {
        "id": "3mv-vwhtn3A1"
      }
    },
    {
      "cell_type": "code",
      "source": [
        "import matplotlib.pyplot as plt\n",
        "import seaborn as sns\n",
        "import numpy as np\n",
        "\n",
        "numeric_cols = df.select_dtypes(include=['int64', 'float64'])\n",
        "correlation_matrix = numeric_cols.corr()\n",
        "\n",
        "plt.figure(figsize=(10, 10))\n",
        "sns.heatmap(correlation_matrix, annot=True, cmap='coolwarm', fmt=\".2f\")\n",
        "plt.title('Correlation heatmap')\n",
        "plt.show()"
      ],
      "metadata": {
        "colab": {
          "base_uri": "https://localhost:8080/",
          "height": 853
        },
        "id": "E9CZGaSnmvUg",
        "outputId": "91ac797f-8898-4945-ec40-f65d749ac32b"
      },
      "execution_count": 131,
      "outputs": [
        {
          "output_type": "display_data",
          "data": {
            "text/plain": [
              "<Figure size 1000x1000 with 2 Axes>"
            ],
            "image/png": "[encoded data removed]"
          },
          "metadata": {}
        }
      ]
    },
    {
      "cell_type": "markdown",
      "source": [
        " #### - Осуществить бинарную классификацию с отфильтрованными признаками.\n"
      ],
      "metadata": {
        "id": "1-p1CXpbwyUE"
      }
    },
    {
      "cell_type": "code",
      "source": [
        "df = df.drop(\"e_Plx\", axis=1)\n",
        "\n",
        "X_filtered = df.drop(\"TargetClass\", axis=1)"
      ],
      "metadata": {
        "id": "vnHBNjR7x3Mk"
      },
      "execution_count": 132,
      "outputs": []
    },
    {
      "cell_type": "code",
      "source": [
        "X_train_f, X_test_f, y_train_f, y_test_f = train_test_split(X_filtered, y, test_size=0.2, random_state=42)"
      ],
      "metadata": {
        "id": "e-9tmMGszlpA"
      },
      "execution_count": 133,
      "outputs": []
    },
    {
      "cell_type": "code",
      "source": [
        "knn_filtered = KNeighborsClassifier(n_neighbors=3)\n",
        "knn_filtered.fit(X_train_f, y_train_f)\n",
        "y_pred_filtered = knn_filtered.predict(X_test_f)"
      ],
      "metadata": {
        "id": "psgzxNLkzoGn"
      },
      "execution_count": 145,
      "outputs": []
    },
    {
      "cell_type": "markdown",
      "source": [
        " ####  - Посчитать метрики: $accuracy$, $precision$, $recall$, $\\textit{f-measure}$, а также составить `classification_report`.\n",
        ""
      ],
      "metadata": {
        "id": "AE-Ps-oGw13k"
      }
    },
    {
      "cell_type": "code",
      "source": [
        "print(\"\\nМетрики после отбора признаков:\")\n",
        "print(f\"Accuracy: {accuracy_score(y_test_f, y_pred_filtered):.2f}\")\n",
        "print(f\"Precision: {precision_score(y_test_f, y_pred_filtered):.2f}\")\n",
        "print(f\"Recall: {recall_score(y_test_f, y_pred_filtered):.2f}\")\n",
        "print(f\"F1-score: {f1_score(y_test_f, y_pred_filtered):.2f}\")\n",
        "print(classification_report(y_test_f, y_pred_filtered))"
      ],
      "metadata": {
        "colab": {
          "base_uri": "https://localhost:8080/"
        },
        "id": "q6zLEDZqzqVR",
        "outputId": "519637a9-66ae-467a-a51b-d3d33c20b004"
      },
      "execution_count": 146,
      "outputs": [
        {
          "output_type": "stream",
          "name": "stdout",
          "text": [
            "\n",
            "Метрики после отбора признаков:\n",
            "Accuracy: 0.91\n",
            "Precision: 0.92\n",
            "Recall: 0.91\n",
            "F1-score: 0.92\n",
            "              precision    recall  f1-score   support\n",
            "\n",
            "           0       0.91      0.92      0.91       353\n",
            "           1       0.92      0.91      0.92       376\n",
            "\n",
            "    accuracy                           0.91       729\n",
            "   macro avg       0.91      0.91      0.91       729\n",
            "weighted avg       0.91      0.91      0.91       729\n",
            "\n"
          ]
        }
      ]
    },
    {
      "cell_type": "markdown",
      "source": [
        "####   - Сравнить результаты \"до\" и \"после\" фильтрации, сделать выводы.\n"
      ],
      "metadata": {
        "id": "rlex_gbaw4kO"
      }
    },
    {
      "cell_type": "markdown",
      "source": [
        "Убрав не релевантные признаки, метрики $accuracy$ и $precision$ улучшились"
      ],
      "metadata": {
        "id": "C2w5Vxza4UIN"
      }
    },
    {
      "cell_type": "markdown",
      "source": [
        "####    - Перебрать значения гиперпараметра $k$ в каком-нибудь диапазоне с использованием кросс-валидации на данных с отфильтрованными признаками. Построить график *train/test accuracy* в зависимости от значения $k$."
      ],
      "metadata": {
        "id": "nBbkVQ_2w67J"
      }
    },
    {
      "cell_type": "code",
      "source": [
        "from sklearn.model_selection import GridSearchCV\n",
        "param_grid = {\"n_neighbors\": np.arange(1, 10)}\n",
        "grid = GridSearchCV(KNeighborsClassifier(), param_grid, cv=5)\n",
        "grid.fit(X, y)\n",
        "print(f\"\\nЛучшее k: {grid.best_params_['n_neighbors']}\")"
      ],
      "metadata": {
        "colab": {
          "base_uri": "https://localhost:8080/"
        },
        "id": "x4_kLMnk4teM",
        "outputId": "70b29ad1-00fb-4194-bbde-969cf31b9d0d"
      },
      "execution_count": 144,
      "outputs": [
        {
          "output_type": "stream",
          "name": "stdout",
          "text": [
            "\n",
            "Лучшее k: 1\n"
          ]
        }
      ]
    },
    {
      "cell_type": "code",
      "source": [
        "train_acc = []\n",
        "test_acc = []\n",
        "k_values = range(1, 10)\n",
        "\n",
        "for k in k_values:\n",
        "    knn = KNeighborsClassifier(n_neighbors=k)\n",
        "    knn.fit(X_train_f, y_train_f)\n",
        "    train_acc.append(knn.score(X_train_f, y_train_f))\n",
        "    test_acc.append(knn.score(X_test_f, y_test_f))\n",
        "\n",
        "plt.figure(figsize=(10, 6))\n",
        "plt.plot(k_values, train_acc, label=\"Train Accuracy\")\n",
        "plt.plot(k_values, test_acc, label=\"Test Accuracy\")\n",
        "plt.xlabel(\"k\")\n",
        "plt.ylabel(\"Accuracy\")\n",
        "plt.legend()\n",
        "plt.title(\"Зависимость точности от значения k\")\n",
        "plt.show()"
      ],
      "metadata": {
        "colab": {
          "base_uri": "https://localhost:8080/",
          "height": 564
        },
        "id": "Zb9tb7ag5JIt",
        "outputId": "df489b01-29d8-43a9-bb3d-cc29136c3e61"
      },
      "execution_count": 140,
      "outputs": [
        {
          "output_type": "display_data",
          "data": {
            "text/plain": [
              "<Figure size 1000x600 with 1 Axes>"
            ],
            "image/png": "[encoded data removed]"
          },
          "metadata": {}
        }
      ]
    },
    {
      "cell_type": "markdown",
      "source": [
        "### Многоклассовая классификация:\n"
      ],
      "metadata": {
        "id": "GDCkqcdwxD6e"
      }
    },
    {
      "cell_type": "code",
      "source": [
        "import pandas as pd\n",
        "\n",
        "df = pd.read_csv(\"/content/6 class csv.csv\")\n",
        "df.head()"
      ],
      "metadata": {
        "colab": {
          "base_uri": "https://localhost:8080/",
          "height": 206
        },
        "id": "Dyo9CQ8M9rzf",
        "outputId": "b030eb2b-352f-4163-f69c-ef47d36302ac"
      },
      "execution_count": 151,
      "outputs": [
        {
          "output_type": "execute_result",
          "data": {
            "text/plain": [
              "   Temperature (K)  Luminosity(L/Lo)  Radius(R/Ro)  Absolute magnitude(Mv)  \\\n",
              "0             3068          0.002400        0.1700                   16.12   \n",
              "1             3042          0.000500        0.1542                   16.60   \n",
              "2             2600          0.000300        0.1020                   18.70   \n",
              "3             2800          0.000200        0.1600                   16.65   \n",
              "4             1939          0.000138        0.1030                   20.06   \n",
              "\n",
              "   Star type Star color Spectral Class  \n",
              "0          0        Red              M  \n",
              "1          0        Red              M  \n",
              "2          0        Red              M  \n",
              "3          0        Red              M  \n",
              "4          0        Red              M  "
            ],
            "text/html": [
              "\n",
              "  <div id=\"df-bf75c3e8-7725-4eb9-a19b-3d93fb29fb90\" class=\"colab-df-container\">\n",
              "    <div>\n",
              "<style scoped>\n",
              "    .dataframe tbody tr th:only-of-type {\n",
              "        vertical-align: middle;\n",
              "    }\n",
              "\n",
              "    .dataframe tbody tr th {\n",
              "        vertical-align: top;\n",
              "    }\n",
              "\n",
              "    .dataframe thead th {\n",
              "        text-align: right;\n",
              "    }\n",
              "</style>\n",
              "<table border=\"1\" class=\"dataframe\">\n",
              "  <thead>\n",
              "    <tr style=\"text-align: right;\">\n",
              "      <th></th>\n",
              "      <th>Temperature (K)</th>\n",
              "      <th>Luminosity(L/Lo)</th>\n",
              "      <th>Radius(R/Ro)</th>\n",
              "      <th>Absolute magnitude(Mv)</th>\n",
              "      <th>Star type</th>\n",
              "      <th>Star color</th>\n",
              "      <th>Spectral Class</th>\n",
              "    </tr>\n",
              "  </thead>\n",
              "  <tbody>\n",
              "    <tr>\n",
              "      <th>0</th>\n",
              "      <td>3068</td>\n",
              "      <td>0.002400</td>\n",
              "      <td>0.1700</td>\n",
              "      <td>16.12</td>\n",
              "      <td>0</td>\n",
              "      <td>Red</td>\n",
              "      <td>M</td>\n",
              "    </tr>\n",
              "    <tr>\n",
              "      <th>1</th>\n",
              "      <td>3042</td>\n",
              "      <td>0.000500</td>\n",
              "      <td>0.1542</td>\n",
              "      <td>16.60</td>\n",
              "      <td>0</td>\n",
              "      <td>Red</td>\n",
              "      <td>M</td>\n",
              "    </tr>\n",
              "    <tr>\n",
              "      <th>2</th>\n",
              "      <td>2600</td>\n",
              "      <td>0.000300</td>\n",
              "      <td>0.1020</td>\n",
              "      <td>18.70</td>\n",
              "      <td>0</td>\n",
              "      <td>Red</td>\n",
              "      <td>M</td>\n",
              "    </tr>\n",
              "    <tr>\n",
              "      <th>3</th>\n",
              "      <td>2800</td>\n",
              "      <td>0.000200</td>\n",
              "      <td>0.1600</td>\n",
              "      <td>16.65</td>\n",
              "      <td>0</td>\n",
              "      <td>Red</td>\n",
              "      <td>M</td>\n",
              "    </tr>\n",
              "    <tr>\n",
              "      <th>4</th>\n",
              "      <td>1939</td>\n",
              "      <td>0.000138</td>\n",
              "      <td>0.1030</td>\n",
              "      <td>20.06</td>\n",
              "      <td>0</td>\n",
              "      <td>Red</td>\n",
              "      <td>M</td>\n",
              "    </tr>\n",
              "  </tbody>\n",
              "</table>\n",
              "</div>\n",
              "    <div class=\"colab-df-buttons\">\n",
              "\n",
              "  <div class=\"colab-df-container\">\n",
              "    <button class=\"colab-df-convert\" onclick=\"convertToInteractive('df-bf75c3e8-7725-4eb9-a19b-3d93fb29fb90')\"\n",
              "            title=\"Convert this dataframe to an interactive table.\"\n",
              "            style=\"display:none;\">\n",
              "\n",
              "  <svg xmlns=\"http://www.w3.org/2000/svg\" height=\"24px\" viewBox=\"0 -960 960 960\">\n",
              "    <path d=\"M120-120v-720h720v720H120Zm60-500h600v-160H180v160Zm220 220h160v-160H400v160Zm0 220h160v-160H400v160ZM180-400h160v-160H180v160Zm440 0h160v-160H620v160ZM180-180h160v-160H180v160Zm440 0h160v-160H620v160Z\"/>\n",
              "  </svg>\n",
              "    </button>\n",
              "\n",
              "  <style>\n",
              "    .colab-df-container {\n",
              "      display:flex;\n",
              "      gap: 12px;\n",
              "    }\n",
              "\n",
              "    .colab-df-convert {\n",
              "      background-color: #E8F0FE;\n",
              "      border: none;\n",
              "      border-radius: 50%;\n",
              "      cursor: pointer;\n",
              "      display: none;\n",
              "      fill: #1967D2;\n",
              "      height: 32px;\n",
              "      padding: 0 0 0 0;\n",
              "      width: 32px;\n",
              "    }\n",
              "\n",
              "    .colab-df-convert:hover {\n",
              "      background-color: #E2EBFA;\n",
              "      box-shadow: 0px 1px 2px rgba(60, 64, 67, 0.3), 0px 1px 3px 1px rgba(60, 64, 67, 0.15);\n",
              "      fill: #174EA6;\n",
              "    }\n",
              "\n",
              "    .colab-df-buttons div {\n",
              "      margin-bottom: 4px;\n",
              "    }\n",
              "\n",
              "    [theme=dark] .colab-df-convert {\n",
              "      background-color: #3B4455;\n",
              "      fill: #D2E3FC;\n",
              "    }\n",
              "\n",
              "    [theme=dark] .colab-df-convert:hover {\n",
              "      background-color: #434B5C;\n",
              "      box-shadow: 0px 1px 3px 1px rgba(0, 0, 0, 0.15);\n",
              "      filter: drop-shadow(0px 1px 2px rgba(0, 0, 0, 0.3));\n",
              "      fill: #FFFFFF;\n",
              "    }\n",
              "  </style>\n",
              "\n",
              "    <script>\n",
              "      const buttonEl =\n",
              "        document.querySelector('#df-bf75c3e8-7725-4eb9-a19b-3d93fb29fb90 button.colab-df-convert');\n",
              "      buttonEl.style.display =\n",
              "        google.colab.kernel.accessAllowed ? 'block' : 'none';\n",
              "\n",
              "      async function convertToInteractive(key) {\n",
              "        const element = document.querySelector('#df-bf75c3e8-7725-4eb9-a19b-3d93fb29fb90');\n",
              "        const dataTable =\n",
              "          await google.colab.kernel.invokeFunction('convertToInteractive',\n",
              "                                                    [key], {});\n",
              "        if (!dataTable) return;\n",
              "\n",
              "        const docLinkHtml = 'Like what you see? Visit the ' +\n",
              "          '<a target=\"_blank\" href=https://colab.research.google.com/notebooks/data_table.ipynb>data table notebook</a>'\n",
              "          + ' to learn more about interactive tables.';\n",
              "        element.innerHTML = '';\n",
              "        dataTable['output_type'] = 'display_data';\n",
              "        await google.colab.output.renderOutput(dataTable, element);\n",
              "        const docLink = document.createElement('div');\n",
              "        docLink.innerHTML = docLinkHtml;\n",
              "        element.appendChild(docLink);\n",
              "      }\n",
              "    </script>\n",
              "  </div>\n",
              "\n",
              "\n",
              "<div id=\"df-9a65a7db-7eb5-4247-9607-32ea1da77bba\">\n",
              "  <button class=\"colab-df-quickchart\" onclick=\"quickchart('df-9a65a7db-7eb5-4247-9607-32ea1da77bba')\"\n",
              "            title=\"Suggest charts\"\n",
              "            style=\"display:none;\">\n",
              "\n",
              "<svg xmlns=\"http://www.w3.org/2000/svg\" height=\"24px\"viewBox=\"0 0 24 24\"\n",
              "     width=\"24px\">\n",
              "    <g>\n",
              "        <path d=\"M19 3H5c-1.1 0-2 .9-2 2v14c0 1.1.9 2 2 2h14c1.1 0 2-.9 2-2V5c0-1.1-.9-2-2-2zM9 17H7v-7h2v7zm4 0h-2V7h2v10zm4 0h-2v-4h2v4z\"/>\n",
              "    </g>\n",
              "</svg>\n",
              "  </button>\n",
              "\n",
              "<style>\n",
              "  .colab-df-quickchart {\n",
              "      --bg-color: #E8F0FE;\n",
              "      --fill-color: #1967D2;\n",
              "      --hover-bg-color: #E2EBFA;\n",
              "      --hover-fill-color: #174EA6;\n",
              "      --disabled-fill-color: #AAA;\n",
              "      --disabled-bg-color: #DDD;\n",
              "  }\n",
              "\n",
              "  [theme=dark] .colab-df-quickchart {\n",
              "      --bg-color: #3B4455;\n",
              "      --fill-color: #D2E3FC;\n",
              "      --hover-bg-color: #434B5C;\n",
              "      --hover-fill-color: #FFFFFF;\n",
              "      --disabled-bg-color: #3B4455;\n",
              "      --disabled-fill-color: #666;\n",
              "  }\n",
              "\n",
              "  .colab-df-quickchart {\n",
              "    background-color: var(--bg-color);\n",
              "    border: none;\n",
              "    border-radius: 50%;\n",
              "    cursor: pointer;\n",
              "    display: none;\n",
              "    fill: var(--fill-color);\n",
              "    height: 32px;\n",
              "    padding: 0;\n",
              "    width: 32px;\n",
              "  }\n",
              "\n",
              "  .colab-df-quickchart:hover {\n",
              "    background-color: var(--hover-bg-color);\n",
              "    box-shadow: 0 1px 2px rgba(60, 64, 67, 0.3), 0 1px 3px 1px rgba(60, 64, 67, 0.15);\n",
              "    fill: var(--button-hover-fill-color);\n",
              "  }\n",
              "\n",
              "  .colab-df-quickchart-complete:disabled,\n",
              "  .colab-df-quickchart-complete:disabled:hover {\n",
              "    background-color: var(--disabled-bg-color);\n",
              "    fill: var(--disabled-fill-color);\n",
              "    box-shadow: none;\n",
              "  }\n",
              "\n",
              "  .colab-df-spinner {\n",
              "    border: 2px solid var(--fill-color);\n",
              "    border-color: transparent;\n",
              "    border-bottom-color: var(--fill-color);\n",
              "    animation:\n",
              "      spin 1s steps(1) infinite;\n",
              "  }\n",
              "\n",
              "  @keyframes spin {\n",
              "    0% {\n",
              "      border-color: transparent;\n",
              "      border-bottom-color: var(--fill-color);\n",
              "      border-left-color: var(--fill-color);\n",
              "    }\n",
              "    20% {\n",
              "      border-color: transparent;\n",
              "      border-left-color: var(--fill-color);\n",
              "      border-top-color: var(--fill-color);\n",
              "    }\n",
              "    30% {\n",
              "      border-color: transparent;\n",
              "      border-left-color: var(--fill-color);\n",
              "      border-top-color: var(--fill-color);\n",
              "      border-right-color: var(--fill-color);\n",
              "    }\n",
              "    40% {\n",
              "      border-color: transparent;\n",
              "      border-right-color: var(--fill-color);\n",
              "      border-top-color: var(--fill-color);\n",
              "    }\n",
              "    60% {\n",
              "      border-color: transparent;\n",
              "      border-right-color: var(--fill-color);\n",
              "    }\n",
              "    80% {\n",
              "      border-color: transparent;\n",
              "      border-right-color: var(--fill-color);\n",
              "      border-bottom-color: var(--fill-color);\n",
              "    }\n",
              "    90% {\n",
              "      border-color: transparent;\n",
              "      border-bottom-color: var(--fill-color);\n",
              "    }\n",
              "  }\n",
              "</style>\n",
              "\n",
              "  <script>\n",
              "    async function quickchart(key) {\n",
              "      const quickchartButtonEl =\n",
              "        document.querySelector('#' + key + ' button');\n",
              "      quickchartButtonEl.disabled = true;  // To prevent multiple clicks.\n",
              "      quickchartButtonEl.classList.add('colab-df-spinner');\n",
              "      try {\n",
              "        const charts = await google.colab.kernel.invokeFunction(\n",
              "            'suggestCharts', [key], {});\n",
              "      } catch (error) {\n",
              "        console.error('Error during call to suggestCharts:', error);\n",
              "      }\n",
              "      quickchartButtonEl.classList.remove('colab-df-spinner');\n",
              "      quickchartButtonEl.classList.add('colab-df-quickchart-complete');\n",
              "    }\n",
              "    (() => {\n",
              "      let quickchartButtonEl =\n",
              "        document.querySelector('#df-9a65a7db-7eb5-4247-9607-32ea1da77bba button');\n",
              "      quickchartButtonEl.style.display =\n",
              "        google.colab.kernel.accessAllowed ? 'block' : 'none';\n",
              "    })();\n",
              "  </script>\n",
              "</div>\n",
              "    </div>\n",
              "  </div>\n"
            ],
            "application/vnd.google.colaboratory.intrinsic+json": {
              "type": "dataframe",
              "variable_name": "df",
              "summary": "{\n  \"name\": \"df\",\n  \"rows\": 240,\n  \"fields\": [\n    {\n      \"column\": \"Temperature (K)\",\n      \"properties\": {\n        \"dtype\": \"number\",\n        \"std\": 9552,\n        \"min\": 1939,\n        \"max\": 40000,\n        \"num_unique_values\": 228,\n        \"samples\": [\n          10930,\n          3345,\n          3600\n        ],\n        \"semantic_type\": \"\",\n        \"description\": \"\"\n      }\n    },\n    {\n      \"column\": \"Luminosity(L/Lo)\",\n      \"properties\": {\n        \"dtype\": \"number\",\n        \"std\": 179432.2449402145,\n        \"min\": 8e-05,\n        \"max\": 849420.0,\n        \"num_unique_values\": 208,\n        \"samples\": [\n          0.000957,\n          0.0018,\n          0.00135\n        ],\n        \"semantic_type\": \"\",\n        \"description\": \"\"\n      }\n    },\n    {\n      \"column\": \"Radius(R/Ro)\",\n      \"properties\": {\n        \"dtype\": \"number\",\n        \"std\": 517.1557634028478,\n        \"min\": 0.0084,\n        \"max\": 1948.5,\n        \"num_unique_values\": 216,\n        \"samples\": [\n          81.0,\n          1423.0,\n          5.92\n        ],\n        \"semantic_type\": \"\",\n        \"description\": \"\"\n      }\n    },\n    {\n      \"column\": \"Absolute magnitude(Mv)\",\n      \"properties\": {\n        \"dtype\": \"number\",\n        \"std\": 10.53251235061617,\n        \"min\": -11.92,\n        \"max\": 20.06,\n        \"num_unique_values\": 228,\n        \"samples\": [\n          -6.224,\n          18.34,\n          16.05\n        ],\n        \"semantic_type\": \"\",\n        \"description\": \"\"\n      }\n    },\n    {\n      \"column\": \"Star type\",\n      \"properties\": {\n        \"dtype\": \"number\",\n        \"std\": 1,\n        \"min\": 0,\n        \"max\": 5,\n        \"num_unique_values\": 6,\n        \"samples\": [\n          0,\n          1,\n          5\n        ],\n        \"semantic_type\": \"\",\n        \"description\": \"\"\n      }\n    },\n    {\n      \"column\": \"Star color\",\n      \"properties\": {\n        \"dtype\": \"category\",\n        \"num_unique_values\": 19,\n        \"samples\": [\n          \"Red\",\n          \"Pale yellow orange\",\n          \"White-Yellow\"\n        ],\n        \"semantic_type\": \"\",\n        \"description\": \"\"\n      }\n    },\n    {\n      \"column\": \"Spectral Class\",\n      \"properties\": {\n        \"dtype\": \"category\",\n        \"num_unique_values\": 7,\n        \"samples\": [\n          \"M\",\n          \"B\",\n          \"K\"\n        ],\n        \"semantic_type\": \"\",\n        \"description\": \"\"\n      }\n    }\n  ]\n}"
            }
          },
          "metadata": {},
          "execution_count": 151
        }
      ]
    },
    {
      "cell_type": "markdown",
      "source": [
        " ####  - Привести описание датасета."
      ],
      "metadata": {
        "id": "VNtXqQxWxGxQ"
      }
    },
    {
      "cell_type": "markdown",
      "source": [
        "Датасет содержит данные для классификации звезд по HR-диаграмме. Основные признаки:\n",
        "\n",
        "| Признак                 | Описание                          | Единицы измерения    |\n",
        "|-------------------------|-----------------------------------|----------------------|\n",
        "| Temperature (K)         | Абсолютная температура           | Кельвины (K)         |\n",
        "| Luminosity(L/Lo)        | Относительная светимость         | L/Lo (отн. Солнца)   |\n",
        "| Radius(R/Ro)            | Относительный радиус             | R/Ro (отн. Солнца)   |\n",
        "| Absolute magnitude(Mv)  | Абсолютная звездная величина      | Mv                   |\n",
        "| Star type               | Тип звезды                        | Категория (0-5)      |\n",
        "| Star color              | Цвет звезды                       | Категория            |\n",
        "| Spectral Class          | Спектральный класс               | Категория (OBAFGKM)  |"
      ],
      "metadata": {
        "id": "YqpFU3Vt9puS"
      }
    },
    {
      "cell_type": "markdown",
      "source": [
        " ####  - Осуществить предобработку данных - \"подчистить данные\".\n"
      ],
      "metadata": {
        "id": "0-4cudfSxNsj"
      }
    },
    {
      "cell_type": "code",
      "source": [
        "df = df.drop(['Spectral Class'], axis=1)"
      ],
      "metadata": {
        "id": "XQG4pE-o-ktJ"
      },
      "execution_count": 152,
      "outputs": []
    },
    {
      "cell_type": "markdown",
      "source": [
        "####   - Закодировать категориальные признаки при необходимости.\n"
      ],
      "metadata": {
        "id": "ADN-tGXpxQ0E"
      }
    },
    {
      "cell_type": "code",
      "source": [
        "from sklearn.preprocessing import LabelEncoder\n",
        "le = LabelEncoder()\n",
        "df['Star type'] = le.fit_transform(df['Star type'])\n",
        "df['Star color'] = le.fit_transform(df['Star color'])"
      ],
      "metadata": {
        "id": "qDhfxg1Y-toZ"
      },
      "execution_count": 154,
      "outputs": []
    },
    {
      "cell_type": "markdown",
      "source": [
        "####   - Нормализовать данные.\n"
      ],
      "metadata": {
        "id": "CZHg5UNGxTmW"
      }
    },
    {
      "cell_type": "code",
      "source": [
        "X = df.drop('Star type', axis=1)\n",
        "y = df['Star type']\n",
        "\n",
        "scaler = StandardScaler()\n",
        "X_scaled = scaler.fit_transform(X)"
      ],
      "metadata": {
        "id": "UxuLhwvU_ArF"
      },
      "execution_count": 155,
      "outputs": []
    },
    {
      "cell_type": "markdown",
      "source": [
        "####    - Выбрать какое-нибудь значение гиперпараметра $k$ алгоритма $kNN$.\n"
      ],
      "metadata": {
        "id": "Ut3OGr2RxWdP"
      }
    },
    {
      "cell_type": "code",
      "source": [
        "k=2"
      ],
      "metadata": {
        "id": "n8MQxHuUFleB"
      },
      "execution_count": null,
      "outputs": []
    },
    {
      "cell_type": "markdown",
      "source": [
        "####    - Разбить выборку на обучающую и тестовую.\n"
      ],
      "metadata": {
        "id": "7XqbS77AxYb0"
      }
    },
    {
      "cell_type": "code",
      "source": [
        "X_train, X_test, y_train, y_test = train_test_split(\n",
        "    X_scaled, y, test_size=0.2, random_state=42\n",
        ")"
      ],
      "metadata": {
        "id": "7EGK3dZj_DeO"
      },
      "execution_count": 156,
      "outputs": []
    },
    {
      "cell_type": "markdown",
      "source": [
        "####    - Осуществить многоклассовую классификацию.\n"
      ],
      "metadata": {
        "id": "sJL8SpHLxaeP"
      }
    },
    {
      "cell_type": "code",
      "source": [
        "knn = KNeighborsClassifier(n_neighbors=5)\n",
        "knn.fit(X_train, y_train)\n",
        "y_pred = knn.predict(X_test)"
      ],
      "metadata": {
        "id": "HXXrdppQ_FhC"
      },
      "execution_count": 157,
      "outputs": []
    },
    {
      "cell_type": "markdown",
      "source": [
        "####    - Посчитать метрики: $accuracy$, $precision$, $recall$, $\\textit{f-measure}$, а также составить `classification_report`.\n"
      ],
      "metadata": {
        "id": "ei00IfCxxcfT"
      }
    },
    {
      "cell_type": "code",
      "source": [
        "print(\"\\nМетрики классификации:\")\n",
        "print(f\"Accuracy: {accuracy_score(y_test, y_pred):.2f}\")\n",
        "print(f\"Precision (macro): {precision_score(y_test, y_pred, average='macro'):.2f}\")\n",
        "print(f\"Recall (macro): {recall_score(y_test, y_pred, average='macro'):.2f}\")\n",
        "print(f\"F1-score (macro): {f1_score(y_test, y_pred, average='macro'):.2f}\")\n",
        "print(\"\\nClassification Report:\\n\", classification_report(y_test, y_pred))"
      ],
      "metadata": {
        "colab": {
          "base_uri": "https://localhost:8080/"
        },
        "id": "JJcX6eSt_Hhj",
        "outputId": "6890f359-00ec-4856-9b3e-7868b397fb99"
      },
      "execution_count": 158,
      "outputs": [
        {
          "output_type": "stream",
          "name": "stdout",
          "text": [
            "\n",
            "Метрики классификации:\n",
            "Accuracy: 0.98\n",
            "Precision (macro): 0.98\n",
            "Recall (macro): 0.98\n",
            "F1-score (macro): 0.98\n",
            "\n",
            "Classification Report:\n",
            "               precision    recall  f1-score   support\n",
            "\n",
            "           0       1.00      1.00      1.00         8\n",
            "           1       0.88      1.00      0.93         7\n",
            "           2       1.00      1.00      1.00         6\n",
            "           3       1.00      0.88      0.93         8\n",
            "           4       1.00      1.00      1.00         8\n",
            "           5       1.00      1.00      1.00        11\n",
            "\n",
            "    accuracy                           0.98        48\n",
            "   macro avg       0.98      0.98      0.98        48\n",
            "weighted avg       0.98      0.98      0.98        48\n",
            "\n"
          ]
        }
      ]
    },
    {
      "cell_type": "markdown",
      "source": [
        "####    - Построить `сorrelation heatmap` и/или воспользоваться методом `corr()`. Выбрать наиболее важные признаки эвристически или на основании каких-нибудь вычислений.\n"
      ],
      "metadata": {
        "id": "Bdo6G66zxeiO"
      }
    },
    {
      "cell_type": "code",
      "source": [
        "from sklearn.metrics import confusion_matrix,ConfusionMatrixDisplay\n",
        "\n",
        "corr_matrix = df.corr().abs()\n",
        "plt.figure(figsize=(10, 8))\n",
        "sns.heatmap(corr_matrix, annot=True, cmap='coolwarm', fmt=\".2f\")\n",
        "plt.title('Корреляционная матрица')\n",
        "plt.show()"
      ],
      "metadata": {
        "colab": {
          "base_uri": "https://localhost:8080/",
          "height": 856
        },
        "id": "PlHXFx9ZFhFi",
        "outputId": "ce76486f-4a53-4bb1-d478-d22e61be7309"
      },
      "execution_count": 201,
      "outputs": [
        {
          "output_type": "display_data",
          "data": {
            "text/plain": [
              "<Figure size 1000x800 with 2 Axes>"
            ],
            "image/png": "[encoded data removed]"
          },
          "metadata": {}
        }
      ]
    },
    {
      "cell_type": "code",
      "source": [
        "target_corr = corr_matrix['Star type'].abs()\n",
        "selected_features = target_corr[target_corr > 0.4].index.tolist()\n",
        "selected_features.remove('Star type')\n",
        "\n",
        "X_filtered = X[selected_features]\n",
        "\n",
        "X_filtered_scaled = scaler.fit_transform(X_filtered)"
      ],
      "metadata": {
        "id": "jENWiFmTGhiM"
      },
      "execution_count": 222,
      "outputs": []
    },
    {
      "cell_type": "markdown",
      "source": [
        "#### - Осуществить многоклассовую классификацию с отфильтрованными признаками."
      ],
      "metadata": {
        "id": "65I46UM5HOw4"
      }
    },
    {
      "cell_type": "code",
      "source": [
        "X_train_filt, X_test_filt, y_train_filt, y_test_filt = train_test_split(\n",
        "    X_filtered_scaled, y, test_size=0.2, random_state=42\n",
        ")\n",
        "\n",
        "knn_filtered = KNeighborsClassifier(n_neighbors=5)\n",
        "knn_filtered.fit(X_train_filt, y_train_filt)\n",
        "y_pred_filt = knn_filtered.predict(X_test_filt)"
      ],
      "metadata": {
        "id": "A0v-AiMOGC1a"
      },
      "execution_count": 223,
      "outputs": []
    },
    {
      "cell_type": "markdown",
      "source": [
        "####    - Посчитать метрики: $accuracy$, $precision$, $recall$, $\\textit{f-measure}$, а также составить `classification_report`.\n"
      ],
      "metadata": {
        "id": "yQjpLRhwxi0Q"
      }
    },
    {
      "cell_type": "code",
      "source": [
        "accuracy_filt = accuracy_score(y_test_filt, y_pred_filt)\n",
        "precision_filt = precision_score(y_test_filt, y_pred_filt, average='macro')\n",
        "recall_filt = recall_score(y_test_filt, y_pred_filt, average='macro')\n",
        "f1_filt = f1_score(y_test_filt, y_pred_filt, average='macro')\n",
        "\n",
        "print(\"\\nМодель с отфильтрованными признаками:\")\n",
        "print(f\"Accuracy: {accuracy_filt:.2f}\")\n",
        "print(f\"Precision: {precision_filt:.2f}\")\n",
        "print(f\"Recall: {recall_filt:.2f}\")\n",
        "print(f\"F1-score: {f1_filt:.2f}\")\n",
        "print(\"\\nClassification Report:\")\n",
        "print(classification_report(y_test_filt, y_pred_filt))"
      ],
      "metadata": {
        "colab": {
          "base_uri": "https://localhost:8080/"
        },
        "id": "hV4lGMb1HVxT",
        "outputId": "248f3a2e-c5c1-4675-e453-e4053ad5c172"
      },
      "execution_count": 224,
      "outputs": [
        {
          "output_type": "stream",
          "name": "stdout",
          "text": [
            "\n",
            "Модель с отфильтрованными признаками:\n",
            "Accuracy: 0.98\n",
            "Precision: 0.98\n",
            "Recall: 0.98\n",
            "F1-score: 0.98\n",
            "\n",
            "Classification Report:\n",
            "              precision    recall  f1-score   support\n",
            "\n",
            "           0       1.00      1.00      1.00         8\n",
            "           1       1.00      1.00      1.00         7\n",
            "           2       1.00      1.00      1.00         6\n",
            "           3       1.00      0.88      0.93         8\n",
            "           4       0.89      1.00      0.94         8\n",
            "           5       1.00      1.00      1.00        11\n",
            "\n",
            "    accuracy                           0.98        48\n",
            "   macro avg       0.98      0.98      0.98        48\n",
            "weighted avg       0.98      0.98      0.98        48\n",
            "\n"
          ]
        }
      ]
    },
    {
      "cell_type": "markdown",
      "source": [
        "####   - Сравнить результаты \"до\" и \"после\" фильтрации, сделать выводы.\n"
      ],
      "metadata": {
        "id": "7SjWM315xk7W"
      }
    },
    {
      "cell_type": "markdown",
      "source": [
        "Фильтрация признаков не повлияла на общее качество модели, но улучшила разделение между отдельными классами."
      ],
      "metadata": {
        "id": "05ULznWhJxkj"
      }
    },
    {
      "cell_type": "markdown",
      "source": [
        "####    - Перебрать значения гиперпараметра $k$ в каком-нибудь диапазоне с использованием кросс-валидации на данных с отфильтрованными признаками. Построить график *train/test accuracy* в зависимости от значения $k$.\n"
      ],
      "metadata": {
        "id": "bi6h-Ck5xnan"
      }
    },
    {
      "cell_type": "code",
      "source": [
        "param_grid = {'n_neighbors': np.arange(1, 21)}\n",
        "grid = GridSearchCV(KNeighborsClassifier(), param_grid, cv=5)\n",
        "grid.fit(X_filtered_scaled, y)\n",
        "best_k = grid.best_params_['n_neighbors']\n",
        "print(f\"\\nЛучшее значение k: {best_k}\")"
      ],
      "metadata": {
        "colab": {
          "base_uri": "https://localhost:8080/"
        },
        "id": "mAIq0LCiJ310",
        "outputId": "7e798790-f6b8-41b8-c607-077b6df682dc"
      },
      "execution_count": 226,
      "outputs": [
        {
          "output_type": "stream",
          "name": "stdout",
          "text": [
            "\n",
            "Лучшее значение k: 3\n"
          ]
        }
      ]
    },
    {
      "cell_type": "code",
      "source": [
        "train_acc = []\n",
        "test_acc = []\n",
        "k_values = range(1, 21)\n",
        "\n",
        "for k in k_values:\n",
        "    knn = KNeighborsClassifier(n_neighbors=k)\n",
        "    knn.fit(X_train_filt, y_train_filt)\n",
        "    train_acc.append(knn.score(X_train_filt, y_train_filt))\n",
        "    test_acc.append(knn.score(X_test_filt, y_test_filt))\n",
        "\n",
        "plt.figure(figsize=(10, 6))\n",
        "plt.plot(k_values, train_acc, label='Train Accuracy')\n",
        "plt.plot(k_values, test_acc, label='Test Accuracy')\n",
        "plt.xlabel('k')\n",
        "plt.ylabel('Accuracy')\n",
        "plt.legend()\n",
        "plt.title('Зависимость точности от значения k')\n",
        "plt.show()\n"
      ],
      "metadata": {
        "colab": {
          "base_uri": "https://localhost:8080/",
          "height": 564
        },
        "id": "Y45I1WjNJ7VT",
        "outputId": "ba67695b-1edd-4048-b355-55b584153242"
      },
      "execution_count": 227,
      "outputs": [
        {
          "output_type": "display_data",
          "data": {
            "text/plain": [
              "<Figure size 1000x600 with 1 Axes>"
            ],
            "image/png": "[encoded data removed]"
          },
          "metadata": {}
        }
      ]
    },
    {
      "cell_type": "markdown",
      "source": [
        "####    - Для лучшего классификатора привести метрики, `classification_report`, построить [confusion matrix](https://scikit-learn.org/stable/auto_examples/model_selection/plot_confusion_matrix.html) (это вроде матрицы $TN$ / $TP$ / $FN$ / $FP$, только расширенной для многоклассовой классификации, чтобы понять, в какие стороны чаще ошибается классификатор)."
      ],
      "metadata": {
        "id": "ibwBoIfxxpZg"
      }
    },
    {
      "cell_type": "code",
      "source": [
        "best_knn = KNeighborsClassifier(n_neighbors=best_k)\n",
        "best_knn.fit(X_train_filt, y_train_filt)\n",
        "y_pred_best = best_knn.predict(X_test_filt)\n",
        "\n",
        "print(\"\\nМетрики лучшего классификатора:\")\n",
        "print(f\"Accuracy: {accuracy_score(y_test_filt, y_pred_best):.2f}\")\n",
        "print(classification_report(y_test_filt, y_pred_best))\n",
        "\n",
        "cm = confusion_matrix(y_test_filt, y_pred_best)\n",
        "disp = ConfusionMatrixDisplay(confusion_matrix=cm)\n",
        "disp.plot(cmap='Blues')\n",
        "plt.title('Confusion Matrix для лучшего классификатора')\n",
        "plt.show()"
      ],
      "metadata": {
        "colab": {
          "base_uri": "https://localhost:8080/",
          "height": 750
        },
        "id": "s7cm4md2wb65",
        "outputId": "84e43c4c-6135-4ef9-f645-09826bd47d01"
      },
      "execution_count": 228,
      "outputs": [
        {
          "output_type": "stream",
          "name": "stdout",
          "text": [
            "\n",
            "Метрики лучшего классификатора:\n",
            "Accuracy: 1.00\n",
            "              precision    recall  f1-score   support\n",
            "\n",
            "           0       1.00      1.00      1.00         8\n",
            "           1       1.00      1.00      1.00         7\n",
            "           2       1.00      1.00      1.00         6\n",
            "           3       1.00      1.00      1.00         8\n",
            "           4       1.00      1.00      1.00         8\n",
            "           5       1.00      1.00      1.00        11\n",
            "\n",
            "    accuracy                           1.00        48\n",
            "   macro avg       1.00      1.00      1.00        48\n",
            "weighted avg       1.00      1.00      1.00        48\n",
            "\n"
          ]
        },
        {
          "output_type": "display_data",
          "data": {
            "text/plain": [
              "<Figure size 640x480 with 2 Axes>"
            ],
            "image/png": "[encoded data removed]"
          },
          "metadata": {}
        }
      ]
    }
  ]
}